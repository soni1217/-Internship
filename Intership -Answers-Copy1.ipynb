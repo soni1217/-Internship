{
 "cells": [
  {
   "cell_type": "markdown",
   "id": "c33faecd",
   "metadata": {},
   "source": [
    "# Answer"
   ]
  },
  {
   "cell_type": "code",
   "execution_count": 4,
   "id": "4577ba3c",
   "metadata": {},
   "outputs": [
    {
     "data": {
      "text/plain": [
       "0"
      ]
     },
     "execution_count": 4,
     "metadata": {},
     "output_type": "execute_result"
    }
   ],
   "source": [
    "10%2  #operator used to calculate in a division %"
   ]
  },
  {
   "cell_type": "code",
   "execution_count": 1,
   "id": "d0870fd7",
   "metadata": {},
   "outputs": [
    {
     "data": {
      "text/plain": [
       "0.6666666666666666"
      ]
     },
     "execution_count": 1,
     "metadata": {},
     "output_type": "execute_result"
    }
   ],
   "source": [
    "2/3"
   ]
  },
  {
   "cell_type": "code",
   "execution_count": 2,
   "id": "7981a77a",
   "metadata": {},
   "outputs": [
    {
     "data": {
      "text/plain": [
       "24"
      ]
     },
     "execution_count": 2,
     "metadata": {},
     "output_type": "execute_result"
    }
   ],
   "source": [
    "6<<2"
   ]
  },
  {
   "cell_type": "code",
   "execution_count": 5,
   "id": "85083a30",
   "metadata": {},
   "outputs": [
    {
     "data": {
      "text/plain": [
       "2"
      ]
     },
     "execution_count": 5,
     "metadata": {},
     "output_type": "execute_result"
    }
   ],
   "source": [
    "6&2"
   ]
  },
  {
   "cell_type": "code",
   "execution_count": 7,
   "id": "63b541b1",
   "metadata": {},
   "outputs": [
    {
     "data": {
      "text/plain": [
       "4"
      ]
     },
     "execution_count": 7,
     "metadata": {},
     "output_type": "execute_result"
    }
   ],
   "source": [
    "6-2"
   ]
  },
  {
   "cell_type": "code",
   "execution_count": 8,
   "id": "0a618b67",
   "metadata": {},
   "outputs": [],
   "source": [
    "#The finally block will be executed no matter if the try block raises an error or not."
   ]
  },
  {
   "cell_type": "code",
   "execution_count": null,
   "id": "3e76e6f5",
   "metadata": {},
   "outputs": [],
   "source": [
    "#It is used to raise an exception"
   ]
  },
  {
   "cell_type": "code",
   "execution_count": null,
   "id": "2a9d1882",
   "metadata": {},
   "outputs": [],
   "source": [
    "#in defining a generator"
   ]
  },
  {
   "cell_type": "code",
   "execution_count": 1,
   "id": "d47961bb",
   "metadata": {},
   "outputs": [
    {
     "name": "stdout",
     "output_type": "stream",
     "text": [
      "The factorial of 7 is 5040\n"
     ]
    }
   ],
   "source": [
    "# Python program to find the factorial of a number provided by the user.\n",
    "# change the value for a different result\n",
    "num = 7\n",
    "\n",
    "# To take input from the user\n",
    "#num = int(input(\"Enter a number: \"))\n",
    "\n",
    "factorial = 1\n",
    "\n",
    "# check if the number is negative, positive or zero\n",
    "if num < 0:\n",
    "   print(\"Sorry, factorial does not exist for negative numbers\")\n",
    "elif num == 0:\n",
    "   print(\"The factorial of 0 is 1\")\n",
    "else:\n",
    "   for i in range(1,num + 1):\n",
    "       factorial = factorial*i\n",
    "   print(\"The factorial of\",num,\"is\",factorial)\n"
   ]
  },
  {
   "cell_type": "code",
   "execution_count": 4,
   "id": "c0c764c8",
   "metadata": {},
   "outputs": [
    {
     "name": "stdout",
     "output_type": "stream",
     "text": [
      "Enter any number:2\n",
      "2 number is prime but not composite number\n"
     ]
    }
   ],
   "source": [
    "#Input a number and check if the number is prime or composite number\n",
    "n= int(input(\"Enter any number:\"))\n",
    "if(n ==0 or n == 1):\n",
    "    printf(n,\"Number is neither prime nor composite\")\n",
    "elif n>1 :\n",
    "    for i in range(2,n):\n",
    "        if(n%i == 0):\n",
    "            print(n,\"is not prime but composite number\")\n",
    "            break\n",
    "    else:\n",
    "        print(n,\"number is prime but not composite number\")\n",
    "else :\n",
    "    print(\"Please enter positive number only \")\n"
   ]
  },
  {
   "cell_type": "code",
   "execution_count": 6,
   "id": "72333891",
   "metadata": {},
   "outputs": [
    {
     "name": "stdout",
     "output_type": "stream",
     "text": [
      "Yes\n"
     ]
    }
   ],
   "source": [
    "def isPalindrome(s):\n",
    "    return s == s[::-1]\n",
    " \n",
    " \n",
    "# Driver code\n",
    "s = \"malayalam\"\n",
    "ans = isPalindrome(s)\n",
    " \n",
    "if ans:\n",
    "    print(\"Yes\")\n",
    "else:\n",
    "    print(\"No\")"
   ]
  },
  {
   "cell_type": "code",
   "execution_count": 8,
   "id": "29745b83",
   "metadata": {},
   "outputs": [
    {
     "name": "stdout",
     "output_type": "stream",
     "text": [
      "Please Enter the Width of a Right Angled Triangle: 4\n",
      "Please Enter the Height of a Right Angled Triangle: 5\n",
      "\n",
      " Area of a right angled triangle is: 10.00\n",
      " Other side of right angled triangle is: 6.40\n",
      " Perimeter of right angled triangle is: 15.40\n"
     ]
    }
   ],
   "source": [
    "#Python Program to find Area of a Right Angled Triangle\n",
    "import math\n",
    "\n",
    "width = float(input('Please Enter the Width of a Right Angled Triangle: '))\n",
    "height = float(input('Please Enter the Height of a Right Angled Triangle: '))\n",
    "\n",
    "# calculate the area\n",
    "Area = 0.5 * width * height\n",
    "\n",
    "# calculate the Third Side\n",
    "c = math.sqrt((width*width) + (height*height))\n",
    "\n",
    "# calculate the Perimeter\n",
    "Perimeter = width + height + c\n",
    "\n",
    "print(\"\\n Area of a right angled triangle is: %.2f\" %Area)\n",
    "print(\" Other side of right angled triangle is: %.2f\" %c)\n",
    "print(\" Perimeter of right angled triangle is: %.2f\" %Perimeter)"
   ]
  },
  {
   "cell_type": "code",
   "execution_count": 9,
   "id": "86467057",
   "metadata": {},
   "outputs": [
    {
     "name": "stdout",
     "output_type": "stream",
     "text": [
      "Enter the string: ABC\n",
      "{'A': 1, 'B': 1, 'C': 1}\n"
     ]
    }
   ],
   "source": [
    "#Given a string and you want to count how many times each character appears\n",
    "\n",
    "str1 = input (\"Enter the string: \")\n",
    "d = dict()\n",
    "for c in str1:\n",
    "    if c in d:\n",
    "        d[c] = d[c] + 1\n",
    "    else:\n",
    "        d[c] = 1\n",
    "print(d)"
   ]
  },
  {
   "cell_type": "code",
   "execution_count": null,
   "id": "38494cc3",
   "metadata": {},
   "outputs": [],
   "source": []
  }
 ],
 "metadata": {
  "kernelspec": {
   "display_name": "Python 3 (ipykernel)",
   "language": "python",
   "name": "python3"
  },
  "language_info": {
   "codemirror_mode": {
    "name": "ipython",
    "version": 3
   },
   "file_extension": ".py",
   "mimetype": "text/x-python",
   "name": "python",
   "nbconvert_exporter": "python",
   "pygments_lexer": "ipython3",
   "version": "3.9.12"
  }
 },
 "nbformat": 4,
 "nbformat_minor": 5
}
